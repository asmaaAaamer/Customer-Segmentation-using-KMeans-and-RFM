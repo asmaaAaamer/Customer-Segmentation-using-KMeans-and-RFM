{
 "cells": [
  {
   "cell_type": "markdown",
   "id": "a16a500b",
   "metadata": {},
   "source": [
    "<h3 style=\"color:#edf1f7;font-size:50px;font-family:'Comic Sans MS';text-align:center;background-color : #4F0E0E; border-\n",
    "radius: 5px 5px;\"><strong>Customer Segmentation using RFM Analysis & K-Means Clustering</strong></h3>"
   ]
  },
  {
   "cell_type": "markdown",
   "id": "d7bf9060",
   "metadata": {},
   "source": [
    "<h3 style=\"color:#4F0E0E;font-size:44px;font-family:newtimeroman;text-align:center;\"><strong>Table of Content</strong></h3>"
   ]
  },
  {
   "cell_type": "markdown",
   "id": "41fee30f",
   "metadata": {},
   "source": [
    "* [1. Importing Libraries](#1)\n",
    "\n",
    "\n",
    "* [2. Loading Data](#2)\n",
    "\n",
    "\n",
    "* [3. Data Preparation and Preprocessing](#3)\n",
    "\n",
    "\n",
    "* [4. RFM Metrics](#4)\n",
    "\n",
    "\n",
    "* [5. RFM Score](#5)\n",
    "\n",
    "\n",
    "* [6. Segmenting customers using RFM score.](#6)\n",
    "\n",
    "\n",
    "* [7. Interpretation of Descriptive Statistics of Segments](#7)\n",
    "\n",
    "\n",
    "* [8. Some Comments on RFM segments](#8)\n",
    "\n",
    "\n",
    "\n",
    "* [9. RFM Segmentation Visualization](#9)\n",
    "\n",
    "\n",
    "\n",
    "* [10. Standardization](#10)\n",
    "\n",
    "\n",
    "* [11. K-Means Segmentation](#11)\n",
    "\n",
    "    * [10.1. Optimal numbers of clusters](#11.1)\n",
    "    \n",
    "    * [10.2. Training KMeans Algorithm](#11.2)\n",
    "    \n",
    "    * [10.3. Which Cluster Is Our Best Customers](#11.3)\n",
    " \n",
    "        \n"
   ]
  },
  {
   "cell_type": "markdown",
   "id": "f2b6c810",
   "metadata": {},
   "source": [
    "# **Business Problem**\n",
    "## **Description**\n",
    "As a manager of the online store, you would want to group the customers into different clusters, so that you can make a customised marketing campaign for each of the group. You would have to decide what the important business criteria are on which you would want to segregate the customers. This is a transnational data set which contains all the transactions occurring between 01/12/2010 and 09/12/2011 for a UK-based and registered non-store online retail.The company mainly sells unique all-occasion gifts. Many customers of the company are wholesalers.\n",
    "\n",
    "## **Task**\n",
    "- Decide the important business criteria to segregate he customers\n",
    "- Group customers into clusters to run targeted campaigns"
   ]
  },
  {
   "cell_type": "markdown",
   "id": "be71b317",
   "metadata": {},
   "source": [
    "<a id=\"1\"></a>\n",
    "<h3 style=\"color:#4F0E0E;font-size:44px;font-family:newtimeroman;text-align:center;\"><strong>Importing Libraries</strong></h3>"
   ]
  },
  {
   "cell_type": "code",
   "execution_count": 41,
   "id": "efa2d59b",
   "metadata": {},
   "outputs": [],
   "source": [
    "#Import libraries\n",
    "import datetime as dt\n",
    "import numpy as np\n",
    "import pandas as pd\n",
    "import matplotlib.pyplot as plt\n",
    "import seaborn as sns\n",
    "import warnings # Uyarılar\n",
    "warnings.filterwarnings(\"ignore\")\n",
    "import squarify\n",
    "from sklearn.preprocessing import MinMaxScaler\n",
    "from sklearn.cluster import KMeans"
   ]
  },
  {
   "cell_type": "markdown",
   "id": "b6881371",
   "metadata": {},
   "source": [
    "<a id=\"2\"></a>\n",
    "<h3 style=\"color:#4F0E0E;font-size:44px;font-family:newtimeroman;text-align:center;\"><strong>Loading Data</strong></h3>"
   ]
  },
  {
   "cell_type": "code",
   "execution_count": 2,
   "id": "222c4bfa",
   "metadata": {},
   "outputs": [
    {
     "data": {
      "text/html": [
       "<div>\n",
       "<style scoped>\n",
       "    .dataframe tbody tr th:only-of-type {\n",
       "        vertical-align: middle;\n",
       "    }\n",
       "\n",
       "    .dataframe tbody tr th {\n",
       "        vertical-align: top;\n",
       "    }\n",
       "\n",
       "    .dataframe thead th {\n",
       "        text-align: right;\n",
       "    }\n",
       "</style>\n",
       "<table border=\"1\" class=\"dataframe\">\n",
       "  <thead>\n",
       "    <tr style=\"text-align: right;\">\n",
       "      <th></th>\n",
       "      <th>InvoiceNo</th>\n",
       "      <th>StockCode</th>\n",
       "      <th>Description</th>\n",
       "      <th>Quantity</th>\n",
       "      <th>InvoiceDate</th>\n",
       "      <th>UnitPrice</th>\n",
       "      <th>CustomerID</th>\n",
       "      <th>Country</th>\n",
       "    </tr>\n",
       "  </thead>\n",
       "  <tbody>\n",
       "    <tr>\n",
       "      <th>0</th>\n",
       "      <td>536365</td>\n",
       "      <td>85123A</td>\n",
       "      <td>WHITE HANGING HEART T-LIGHT HOLDER</td>\n",
       "      <td>6</td>\n",
       "      <td>12/1/2010 8:26</td>\n",
       "      <td>2.55</td>\n",
       "      <td>17850.0</td>\n",
       "      <td>United Kingdom</td>\n",
       "    </tr>\n",
       "    <tr>\n",
       "      <th>1</th>\n",
       "      <td>536365</td>\n",
       "      <td>71053</td>\n",
       "      <td>WHITE METAL LANTERN</td>\n",
       "      <td>6</td>\n",
       "      <td>12/1/2010 8:26</td>\n",
       "      <td>3.39</td>\n",
       "      <td>17850.0</td>\n",
       "      <td>United Kingdom</td>\n",
       "    </tr>\n",
       "    <tr>\n",
       "      <th>2</th>\n",
       "      <td>536365</td>\n",
       "      <td>84406B</td>\n",
       "      <td>CREAM CUPID HEARTS COAT HANGER</td>\n",
       "      <td>8</td>\n",
       "      <td>12/1/2010 8:26</td>\n",
       "      <td>2.75</td>\n",
       "      <td>17850.0</td>\n",
       "      <td>United Kingdom</td>\n",
       "    </tr>\n",
       "    <tr>\n",
       "      <th>3</th>\n",
       "      <td>536365</td>\n",
       "      <td>84029G</td>\n",
       "      <td>KNITTED UNION FLAG HOT WATER BOTTLE</td>\n",
       "      <td>6</td>\n",
       "      <td>12/1/2010 8:26</td>\n",
       "      <td>3.39</td>\n",
       "      <td>17850.0</td>\n",
       "      <td>United Kingdom</td>\n",
       "    </tr>\n",
       "    <tr>\n",
       "      <th>4</th>\n",
       "      <td>536365</td>\n",
       "      <td>84029E</td>\n",
       "      <td>RED WOOLLY HOTTIE WHITE HEART.</td>\n",
       "      <td>6</td>\n",
       "      <td>12/1/2010 8:26</td>\n",
       "      <td>3.39</td>\n",
       "      <td>17850.0</td>\n",
       "      <td>United Kingdom</td>\n",
       "    </tr>\n",
       "  </tbody>\n",
       "</table>\n",
       "</div>"
      ],
      "text/plain": [
       "  InvoiceNo StockCode                          Description  Quantity  \\\n",
       "0    536365    85123A   WHITE HANGING HEART T-LIGHT HOLDER         6   \n",
       "1    536365     71053                  WHITE METAL LANTERN         6   \n",
       "2    536365    84406B       CREAM CUPID HEARTS COAT HANGER         8   \n",
       "3    536365    84029G  KNITTED UNION FLAG HOT WATER BOTTLE         6   \n",
       "4    536365    84029E       RED WOOLLY HOTTIE WHITE HEART.         6   \n",
       "\n",
       "      InvoiceDate  UnitPrice  CustomerID         Country  \n",
       "0  12/1/2010 8:26       2.55     17850.0  United Kingdom  \n",
       "1  12/1/2010 8:26       3.39     17850.0  United Kingdom  \n",
       "2  12/1/2010 8:26       2.75     17850.0  United Kingdom  \n",
       "3  12/1/2010 8:26       3.39     17850.0  United Kingdom  \n",
       "4  12/1/2010 8:26       3.39     17850.0  United Kingdom  "
      ]
     },
     "execution_count": 2,
     "metadata": {},
     "output_type": "execute_result"
    }
   ],
   "source": [
    "df= pd.read_csv('data.csv')\n",
    "df.head()"
   ]
  },
  {
   "cell_type": "markdown",
   "id": "593dd78f",
   "metadata": {},
   "source": [
    "<a id=\"3\"></a>\n",
    "<h3 style=\"color:#4F0E0E;font-size:44px;font-family:newtimeroman;text-align:center;\"><strong>Data Preparation and Preprocessing</strong></h3>"
   ]
  },
  {
   "cell_type": "code",
   "execution_count": 3,
   "id": "d34ca379",
   "metadata": {},
   "outputs": [
    {
     "name": "stdout",
     "output_type": "stream",
     "text": [
      "This DataFrame has 541909 Rows and  8 Columns\n"
     ]
    }
   ],
   "source": [
    "# The shape of the data \n",
    "print('This DataFrame has', df.shape[0] , 'Rows and ', df.shape[1], 'Columns')"
   ]
  },
  {
   "cell_type": "code",
   "execution_count": 4,
   "id": "450f424c",
   "metadata": {},
   "outputs": [
    {
     "data": {
      "text/plain": [
       "InvoiceNo       object\n",
       "StockCode       object\n",
       "Description     object\n",
       "Quantity         int64\n",
       "InvoiceDate     object\n",
       "UnitPrice      float64\n",
       "CustomerID     float64\n",
       "Country         object\n",
       "dtype: object"
      ]
     },
     "execution_count": 4,
     "metadata": {},
     "output_type": "execute_result"
    }
   ],
   "source": [
    "# Dtype of each Feature\n",
    "df.dtypes"
   ]
  },
  {
   "cell_type": "code",
   "execution_count": 5,
   "id": "7b415dd5",
   "metadata": {},
   "outputs": [],
   "source": [
    "df['InvoiceDate'] = pd.to_datetime(df['InvoiceDate'])"
   ]
  },
  {
   "cell_type": "code",
   "execution_count": 6,
   "id": "3a3e336c",
   "metadata": {},
   "outputs": [
    {
     "data": {
      "text/html": [
       "<div>\n",
       "<style scoped>\n",
       "    .dataframe tbody tr th:only-of-type {\n",
       "        vertical-align: middle;\n",
       "    }\n",
       "\n",
       "    .dataframe tbody tr th {\n",
       "        vertical-align: top;\n",
       "    }\n",
       "\n",
       "    .dataframe thead th {\n",
       "        text-align: right;\n",
       "    }\n",
       "</style>\n",
       "<table border=\"1\" class=\"dataframe\">\n",
       "  <thead>\n",
       "    <tr style=\"text-align: right;\">\n",
       "      <th></th>\n",
       "      <th>count</th>\n",
       "      <th>mean</th>\n",
       "      <th>std</th>\n",
       "      <th>min</th>\n",
       "      <th>25%</th>\n",
       "      <th>50%</th>\n",
       "      <th>75%</th>\n",
       "      <th>max</th>\n",
       "    </tr>\n",
       "  </thead>\n",
       "  <tbody>\n",
       "    <tr>\n",
       "      <th>Quantity</th>\n",
       "      <td>541909.0</td>\n",
       "      <td>9.552250</td>\n",
       "      <td>218.081158</td>\n",
       "      <td>-80995.00</td>\n",
       "      <td>1.00</td>\n",
       "      <td>3.00</td>\n",
       "      <td>10.00</td>\n",
       "      <td>80995.0</td>\n",
       "    </tr>\n",
       "    <tr>\n",
       "      <th>UnitPrice</th>\n",
       "      <td>541909.0</td>\n",
       "      <td>4.611114</td>\n",
       "      <td>96.759853</td>\n",
       "      <td>-11062.06</td>\n",
       "      <td>1.25</td>\n",
       "      <td>2.08</td>\n",
       "      <td>4.13</td>\n",
       "      <td>38970.0</td>\n",
       "    </tr>\n",
       "    <tr>\n",
       "      <th>CustomerID</th>\n",
       "      <td>406829.0</td>\n",
       "      <td>15287.690570</td>\n",
       "      <td>1713.600303</td>\n",
       "      <td>12346.00</td>\n",
       "      <td>13953.00</td>\n",
       "      <td>15152.00</td>\n",
       "      <td>16791.00</td>\n",
       "      <td>18287.0</td>\n",
       "    </tr>\n",
       "  </tbody>\n",
       "</table>\n",
       "</div>"
      ],
      "text/plain": [
       "               count          mean          std       min       25%       50%  \\\n",
       "Quantity    541909.0      9.552250   218.081158 -80995.00      1.00      3.00   \n",
       "UnitPrice   541909.0      4.611114    96.759853 -11062.06      1.25      2.08   \n",
       "CustomerID  406829.0  15287.690570  1713.600303  12346.00  13953.00  15152.00   \n",
       "\n",
       "                 75%      max  \n",
       "Quantity       10.00  80995.0  \n",
       "UnitPrice       4.13  38970.0  \n",
       "CustomerID  16791.00  18287.0  "
      ]
     },
     "execution_count": 6,
     "metadata": {},
     "output_type": "execute_result"
    }
   ],
   "source": [
    "# see some statisticals of the data\n",
    "df.describe().T"
   ]
  },
  {
   "cell_type": "code",
   "execution_count": 7,
   "id": "67d00dcf",
   "metadata": {},
   "outputs": [
    {
     "data": {
      "text/plain": [
       "InvoiceNo           0\n",
       "StockCode           0\n",
       "Description      1454\n",
       "Quantity            0\n",
       "InvoiceDate         0\n",
       "UnitPrice           0\n",
       "CustomerID     135080\n",
       "Country             0\n",
       "dtype: int64"
      ]
     },
     "execution_count": 7,
     "metadata": {},
     "output_type": "execute_result"
    }
   ],
   "source": [
    "# check for NAN values\n",
    "df.isnull().sum()"
   ]
  },
  {
   "cell_type": "code",
   "execution_count": 8,
   "id": "9d12debe",
   "metadata": {},
   "outputs": [],
   "source": [
    "#Remove the missing observations from the dataset\n",
    "df.dropna(inplace=True)"
   ]
  },
  {
   "cell_type": "code",
   "execution_count": 9,
   "id": "bafac303",
   "metadata": {},
   "outputs": [
    {
     "data": {
      "text/plain": [
       "3896"
      ]
     },
     "execution_count": 9,
     "metadata": {},
     "output_type": "execute_result"
    }
   ],
   "source": [
    "#How many unique items in the dataset?\n",
    "df[\"Description\"].nunique()"
   ]
  },
  {
   "cell_type": "code",
   "execution_count": 10,
   "id": "7a698f3e",
   "metadata": {},
   "outputs": [
    {
     "data": {
      "text/html": [
       "<div>\n",
       "<style scoped>\n",
       "    .dataframe tbody tr th:only-of-type {\n",
       "        vertical-align: middle;\n",
       "    }\n",
       "\n",
       "    .dataframe tbody tr th {\n",
       "        vertical-align: top;\n",
       "    }\n",
       "\n",
       "    .dataframe thead th {\n",
       "        text-align: right;\n",
       "    }\n",
       "</style>\n",
       "<table border=\"1\" class=\"dataframe\">\n",
       "  <thead>\n",
       "    <tr style=\"text-align: right;\">\n",
       "      <th></th>\n",
       "      <th>Quantity</th>\n",
       "    </tr>\n",
       "    <tr>\n",
       "      <th>Description</th>\n",
       "      <th></th>\n",
       "    </tr>\n",
       "  </thead>\n",
       "  <tbody>\n",
       "    <tr>\n",
       "      <th>WORLD WAR 2 GLIDERS ASSTD DESIGNS</th>\n",
       "      <td>53215</td>\n",
       "    </tr>\n",
       "    <tr>\n",
       "      <th>JUMBO BAG RED RETROSPOT</th>\n",
       "      <td>45066</td>\n",
       "    </tr>\n",
       "    <tr>\n",
       "      <th>ASSORTED COLOUR BIRD ORNAMENT</th>\n",
       "      <td>35314</td>\n",
       "    </tr>\n",
       "    <tr>\n",
       "      <th>WHITE HANGING HEART T-LIGHT HOLDER</th>\n",
       "      <td>34147</td>\n",
       "    </tr>\n",
       "    <tr>\n",
       "      <th>PACK OF 72 RETROSPOT CAKE CASES</th>\n",
       "      <td>33409</td>\n",
       "    </tr>\n",
       "  </tbody>\n",
       "</table>\n",
       "</div>"
      ],
      "text/plain": [
       "                                    Quantity\n",
       "Description                                 \n",
       "WORLD WAR 2 GLIDERS ASSTD DESIGNS      53215\n",
       "JUMBO BAG RED RETROSPOT                45066\n",
       "ASSORTED COLOUR BIRD ORNAMENT          35314\n",
       "WHITE HANGING HEART T-LIGHT HOLDER     34147\n",
       "PACK OF 72 RETROSPOT CAKE CASES        33409"
      ]
     },
     "execution_count": 10,
     "metadata": {},
     "output_type": "execute_result"
    }
   ],
   "source": [
    "#Rank the 5 most ordered products from most to least\n",
    "df.groupby('Description').agg({'Quantity':'sum'}).sort_values('Quantity', ascending = False).head(5)"
   ]
  },
  {
   "cell_type": "code",
   "execution_count": 11,
   "id": "5efa9553",
   "metadata": {},
   "outputs": [],
   "source": [
    "#Remove the canceled transactions from the dataset\n",
    "df = df[~df[\"InvoiceNo\"].str.contains(\"C\", na=False)]"
   ]
  },
  {
   "cell_type": "code",
   "execution_count": 12,
   "id": "9b29d874",
   "metadata": {},
   "outputs": [],
   "source": [
    "#The total amount of each invoice and we create that column just multiply 'Price' and 'Quantity'\n",
    "df[\"TotalPrice\"] = df[\"Quantity\"] * df[\"UnitPrice\"]"
   ]
  },
  {
   "cell_type": "markdown",
   "id": "8bd9bfea",
   "metadata": {},
   "source": [
    "<a id=\"4\"></a>\n",
    "<h3 style=\"color:#4F0E0E;font-size:44px;font-family:newtimeroman;text-align:center;\"><strong>Creating RFM Metrics</strong></h3>"
   ]
  },
  {
   "attachments": {
    "1_oUKMc3gk53hccFX4YNeu1g.png": {
     "image/png": "[encoded data removed]"
    }
   },
   "cell_type": "markdown",
   "id": "286e9cf8",
   "metadata": {},
   "source": [
    "![1_oUKMc3gk53hccFX4YNeu1g.png](attachment:1_oUKMc3gk53hccFX4YNeu1g.png)"
   ]
  },
  {
   "cell_type": "markdown",
   "id": "4a070327",
   "metadata": {},
   "source": [
    "The Recency and Frequency Grid breaks your user base down into:\n",
    "- Champions [R(4 – 5), F(4 – 5)]\n",
    "- Loyal Customers [R(3 – 4), F(4 – 5)]\n",
    "- Potential Loyalists [R(4 – 5), F(2 – 3)]\n",
    "- Promising [R(3 – 4), F(0 – 1)]\n",
    "- Can’t Lose Them [R(1 – 2), F(4 – 5)]\n",
    "- At Risk [R(1 – 2), F(3 – 4)]\n",
    "- About to Sleep [R(2 – 3), F(1-2)]\n",
    "- Hibernating [R(1 – 2), F(1 – 2)]\n",
    "- New Customers R [(4 – 5), F(0 – 1)]\n",
    "- Need Attention R [(2 – 3), F(2 – 3)]"
   ]
  },
  {
   "cell_type": "markdown",
   "id": "6e5b89bc",
   "metadata": {},
   "source": [
    "**Recency** - Time since last order or engaged with product."
   ]
  },
  {
   "cell_type": "markdown",
   "id": "5a7a97de",
   "metadata": {},
   "source": [
    "**Frequency** - Total number of transactions made by customer or average time between transactions."
   ]
  },
  {
   "cell_type": "markdown",
   "id": "a10eda2c",
   "metadata": {},
   "source": [
    "**Monetary** - Total or average amount spent by the customer."
   ]
  },
  {
   "cell_type": "code",
   "execution_count": 13,
   "id": "dfcfcd47",
   "metadata": {},
   "outputs": [
    {
     "data": {
      "text/html": [
       "<div>\n",
       "<style scoped>\n",
       "    .dataframe tbody tr th:only-of-type {\n",
       "        vertical-align: middle;\n",
       "    }\n",
       "\n",
       "    .dataframe tbody tr th {\n",
       "        vertical-align: top;\n",
       "    }\n",
       "\n",
       "    .dataframe thead th {\n",
       "        text-align: right;\n",
       "    }\n",
       "</style>\n",
       "<table border=\"1\" class=\"dataframe\">\n",
       "  <thead>\n",
       "    <tr style=\"text-align: right;\">\n",
       "      <th></th>\n",
       "      <th>Recency</th>\n",
       "      <th>Frequency</th>\n",
       "      <th>Monetary</th>\n",
       "    </tr>\n",
       "    <tr>\n",
       "      <th>CustomerID</th>\n",
       "      <th></th>\n",
       "      <th></th>\n",
       "      <th></th>\n",
       "    </tr>\n",
       "  </thead>\n",
       "  <tbody>\n",
       "    <tr>\n",
       "      <th>12346.0</th>\n",
       "      <td>326</td>\n",
       "      <td>1</td>\n",
       "      <td>77183.60</td>\n",
       "    </tr>\n",
       "    <tr>\n",
       "      <th>12347.0</th>\n",
       "      <td>3</td>\n",
       "      <td>7</td>\n",
       "      <td>4310.00</td>\n",
       "    </tr>\n",
       "    <tr>\n",
       "      <th>12348.0</th>\n",
       "      <td>76</td>\n",
       "      <td>4</td>\n",
       "      <td>1797.24</td>\n",
       "    </tr>\n",
       "    <tr>\n",
       "      <th>12349.0</th>\n",
       "      <td>19</td>\n",
       "      <td>1</td>\n",
       "      <td>1757.55</td>\n",
       "    </tr>\n",
       "    <tr>\n",
       "      <th>12350.0</th>\n",
       "      <td>311</td>\n",
       "      <td>1</td>\n",
       "      <td>334.40</td>\n",
       "    </tr>\n",
       "  </tbody>\n",
       "</table>\n",
       "</div>"
      ],
      "text/plain": [
       "            Recency  Frequency  Monetary\n",
       "CustomerID                              \n",
       "12346.0         326          1  77183.60\n",
       "12347.0           3          7   4310.00\n",
       "12348.0          76          4   1797.24\n",
       "12349.0          19          1   1757.55\n",
       "12350.0         311          1    334.40"
      ]
     },
     "execution_count": 13,
     "metadata": {},
     "output_type": "execute_result"
    }
   ],
   "source": [
    "#Determining the analysis date for the recency \n",
    "df['InvoiceDate'].max()\n",
    "today_date = dt.datetime(2011, 12, 11)\n",
    "\n",
    "rfm_analysis = df.groupby('CustomerID').agg({'InvoiceDate': lambda date:(today_date - date.max()).days,\n",
    "                                   'InvoiceNo': lambda num : num.nunique(),\n",
    "                                    'TotalPrice' : lambda totalprice : totalprice.sum()})\n",
    "rfm_analysis.columns=['Recency', 'Frequency', 'Monetary']\n",
    "rfm_analysis = rfm_analysis[rfm_analysis['Monetary'] > 0]\n",
    "rfm_analysis.head()"
   ]
  },
  {
   "cell_type": "markdown",
   "id": "89c3a552",
   "metadata": {},
   "source": [
    "<a id=\"5\"></a>\n",
    "<h3 style=\"color:#4F0E0E;font-size:44px;font-family:newtimeroman;text-align:center;\"><strong>Creating RFM Score</strong></h3>"
   ]
  },
  {
   "cell_type": "code",
   "execution_count": 14,
   "id": "58d36ae4",
   "metadata": {},
   "outputs": [
    {
     "data": {
      "text/html": [
       "<div>\n",
       "<style scoped>\n",
       "    .dataframe tbody tr th:only-of-type {\n",
       "        vertical-align: middle;\n",
       "    }\n",
       "\n",
       "    .dataframe tbody tr th {\n",
       "        vertical-align: top;\n",
       "    }\n",
       "\n",
       "    .dataframe thead th {\n",
       "        text-align: right;\n",
       "    }\n",
       "</style>\n",
       "<table border=\"1\" class=\"dataframe\">\n",
       "  <thead>\n",
       "    <tr style=\"text-align: right;\">\n",
       "      <th></th>\n",
       "      <th>Recency</th>\n",
       "      <th>Frequency</th>\n",
       "      <th>Monetary</th>\n",
       "      <th>recency_score</th>\n",
       "      <th>frequency_score</th>\n",
       "      <th>monetary_score</th>\n",
       "    </tr>\n",
       "    <tr>\n",
       "      <th>CustomerID</th>\n",
       "      <th></th>\n",
       "      <th></th>\n",
       "      <th></th>\n",
       "      <th></th>\n",
       "      <th></th>\n",
       "      <th></th>\n",
       "    </tr>\n",
       "  </thead>\n",
       "  <tbody>\n",
       "    <tr>\n",
       "      <th>12346.0</th>\n",
       "      <td>326</td>\n",
       "      <td>1</td>\n",
       "      <td>77183.60</td>\n",
       "      <td>1</td>\n",
       "      <td>1</td>\n",
       "      <td>5</td>\n",
       "    </tr>\n",
       "    <tr>\n",
       "      <th>12347.0</th>\n",
       "      <td>3</td>\n",
       "      <td>7</td>\n",
       "      <td>4310.00</td>\n",
       "      <td>5</td>\n",
       "      <td>5</td>\n",
       "      <td>5</td>\n",
       "    </tr>\n",
       "    <tr>\n",
       "      <th>12348.0</th>\n",
       "      <td>76</td>\n",
       "      <td>4</td>\n",
       "      <td>1797.24</td>\n",
       "      <td>2</td>\n",
       "      <td>4</td>\n",
       "      <td>4</td>\n",
       "    </tr>\n",
       "    <tr>\n",
       "      <th>12349.0</th>\n",
       "      <td>19</td>\n",
       "      <td>1</td>\n",
       "      <td>1757.55</td>\n",
       "      <td>4</td>\n",
       "      <td>1</td>\n",
       "      <td>4</td>\n",
       "    </tr>\n",
       "    <tr>\n",
       "      <th>12350.0</th>\n",
       "      <td>311</td>\n",
       "      <td>1</td>\n",
       "      <td>334.40</td>\n",
       "      <td>1</td>\n",
       "      <td>1</td>\n",
       "      <td>2</td>\n",
       "    </tr>\n",
       "  </tbody>\n",
       "</table>\n",
       "</div>"
      ],
      "text/plain": [
       "            Recency  Frequency  Monetary recency_score frequency_score  \\\n",
       "CustomerID                                                               \n",
       "12346.0         326          1  77183.60             1               1   \n",
       "12347.0           3          7   4310.00             5               5   \n",
       "12348.0          76          4   1797.24             2               4   \n",
       "12349.0          19          1   1757.55             4               1   \n",
       "12350.0         311          1    334.40             1               1   \n",
       "\n",
       "           monetary_score  \n",
       "CustomerID                 \n",
       "12346.0                 5  \n",
       "12347.0                 5  \n",
       "12348.0                 4  \n",
       "12349.0                 4  \n",
       "12350.0                 2  "
      ]
     },
     "execution_count": 14,
     "metadata": {},
     "output_type": "execute_result"
    }
   ],
   "source": [
    "#Date from customer's last purchase.The nearest date gets 5 and the furthest date gets 1.\n",
    "rfm_analysis[\"recency_score\"] = pd.qcut(rfm_analysis['Recency'], 5, labels=[5, 4, 3, 2, 1])\n",
    "\n",
    "# Total number of purchases.The least frequency gets 1 and the maximum frequency gets 5.\n",
    "rfm_analysis[\"frequency_score\"] = pd.qcut(rfm_analysis[\"Frequency\"].rank(method=\"first\"), 5, labels=[1, 2, 3, 4, 5])\n",
    "\n",
    "#Total spend by the customer.The least money gets 1, the most money gets 5.\n",
    "rfm_analysis[\"monetary_score\"]= pd.qcut(rfm_analysis[\"Monetary\"],5,labels=[1,2,3,4,5])\n",
    "\n",
    "rfm_analysis.head()"
   ]
  },
  {
   "cell_type": "code",
   "execution_count": 15,
   "id": "be7c90e5",
   "metadata": {},
   "outputs": [
    {
     "data": {
      "text/html": [
       "<div>\n",
       "<style scoped>\n",
       "    .dataframe tbody tr th:only-of-type {\n",
       "        vertical-align: middle;\n",
       "    }\n",
       "\n",
       "    .dataframe tbody tr th {\n",
       "        vertical-align: top;\n",
       "    }\n",
       "\n",
       "    .dataframe thead th {\n",
       "        text-align: right;\n",
       "    }\n",
       "</style>\n",
       "<table border=\"1\" class=\"dataframe\">\n",
       "  <thead>\n",
       "    <tr style=\"text-align: right;\">\n",
       "      <th></th>\n",
       "      <th>Recency</th>\n",
       "      <th>Frequency</th>\n",
       "      <th>Monetary</th>\n",
       "      <th>recency_score</th>\n",
       "      <th>frequency_score</th>\n",
       "      <th>monetary_score</th>\n",
       "      <th>RFM_SCORE</th>\n",
       "    </tr>\n",
       "    <tr>\n",
       "      <th>CustomerID</th>\n",
       "      <th></th>\n",
       "      <th></th>\n",
       "      <th></th>\n",
       "      <th></th>\n",
       "      <th></th>\n",
       "      <th></th>\n",
       "      <th></th>\n",
       "    </tr>\n",
       "  </thead>\n",
       "  <tbody>\n",
       "    <tr>\n",
       "      <th>12346.0</th>\n",
       "      <td>326</td>\n",
       "      <td>1</td>\n",
       "      <td>77183.60</td>\n",
       "      <td>1</td>\n",
       "      <td>1</td>\n",
       "      <td>5</td>\n",
       "      <td>11</td>\n",
       "    </tr>\n",
       "    <tr>\n",
       "      <th>12347.0</th>\n",
       "      <td>3</td>\n",
       "      <td>7</td>\n",
       "      <td>4310.00</td>\n",
       "      <td>5</td>\n",
       "      <td>5</td>\n",
       "      <td>5</td>\n",
       "      <td>55</td>\n",
       "    </tr>\n",
       "    <tr>\n",
       "      <th>12348.0</th>\n",
       "      <td>76</td>\n",
       "      <td>4</td>\n",
       "      <td>1797.24</td>\n",
       "      <td>2</td>\n",
       "      <td>4</td>\n",
       "      <td>4</td>\n",
       "      <td>24</td>\n",
       "    </tr>\n",
       "    <tr>\n",
       "      <th>12349.0</th>\n",
       "      <td>19</td>\n",
       "      <td>1</td>\n",
       "      <td>1757.55</td>\n",
       "      <td>4</td>\n",
       "      <td>1</td>\n",
       "      <td>4</td>\n",
       "      <td>41</td>\n",
       "    </tr>\n",
       "    <tr>\n",
       "      <th>12350.0</th>\n",
       "      <td>311</td>\n",
       "      <td>1</td>\n",
       "      <td>334.40</td>\n",
       "      <td>1</td>\n",
       "      <td>1</td>\n",
       "      <td>2</td>\n",
       "      <td>11</td>\n",
       "    </tr>\n",
       "  </tbody>\n",
       "</table>\n",
       "</div>"
      ],
      "text/plain": [
       "            Recency  Frequency  Monetary recency_score frequency_score  \\\n",
       "CustomerID                                                               \n",
       "12346.0         326          1  77183.60             1               1   \n",
       "12347.0           3          7   4310.00             5               5   \n",
       "12348.0          76          4   1797.24             2               4   \n",
       "12349.0          19          1   1757.55             4               1   \n",
       "12350.0         311          1    334.40             1               1   \n",
       "\n",
       "           monetary_score RFM_SCORE  \n",
       "CustomerID                           \n",
       "12346.0                 5        11  \n",
       "12347.0                 5        55  \n",
       "12348.0                 4        24  \n",
       "12349.0                 4        41  \n",
       "12350.0                 2        11  "
      ]
     },
     "execution_count": 15,
     "metadata": {},
     "output_type": "execute_result"
    }
   ],
   "source": [
    "# If we concatenate R and F scores we will simply get RFM score  \n",
    "rfm_analysis['RFM_SCORE'] = (rfm_analysis['recency_score'].astype('str') + rfm_analysis['frequency_score'].astype('str'))\n",
    "rfm_analysis.head()"
   ]
  },
  {
   "cell_type": "markdown",
   "id": "a017a799",
   "metadata": {},
   "source": [
    "<a id=\"6\"></a>\n",
    "<h3 style=\"color:#4F0E0E;font-size:44px;font-family:newtimeroman;text-align:center;\"><strong>Segmenting customers using RFM score.</strong></h3>"
   ]
  },
  {
   "cell_type": "code",
   "execution_count": 16,
   "id": "0318fd82",
   "metadata": {},
   "outputs": [
    {
     "data": {
      "text/html": [
       "<div>\n",
       "<style scoped>\n",
       "    .dataframe tbody tr th:only-of-type {\n",
       "        vertical-align: middle;\n",
       "    }\n",
       "\n",
       "    .dataframe tbody tr th {\n",
       "        vertical-align: top;\n",
       "    }\n",
       "\n",
       "    .dataframe thead th {\n",
       "        text-align: right;\n",
       "    }\n",
       "</style>\n",
       "<table border=\"1\" class=\"dataframe\">\n",
       "  <thead>\n",
       "    <tr style=\"text-align: right;\">\n",
       "      <th></th>\n",
       "      <th>Recency</th>\n",
       "      <th>Frequency</th>\n",
       "      <th>Monetary</th>\n",
       "      <th>recency_score</th>\n",
       "      <th>frequency_score</th>\n",
       "      <th>monetary_score</th>\n",
       "      <th>RFM_SCORE</th>\n",
       "      <th>segment</th>\n",
       "    </tr>\n",
       "    <tr>\n",
       "      <th>CustomerID</th>\n",
       "      <th></th>\n",
       "      <th></th>\n",
       "      <th></th>\n",
       "      <th></th>\n",
       "      <th></th>\n",
       "      <th></th>\n",
       "      <th></th>\n",
       "      <th></th>\n",
       "    </tr>\n",
       "  </thead>\n",
       "  <tbody>\n",
       "    <tr>\n",
       "      <th>12346.0</th>\n",
       "      <td>326</td>\n",
       "      <td>1</td>\n",
       "      <td>77183.60</td>\n",
       "      <td>1</td>\n",
       "      <td>1</td>\n",
       "      <td>5</td>\n",
       "      <td>11</td>\n",
       "      <td>hibernating</td>\n",
       "    </tr>\n",
       "    <tr>\n",
       "      <th>12347.0</th>\n",
       "      <td>3</td>\n",
       "      <td>7</td>\n",
       "      <td>4310.00</td>\n",
       "      <td>5</td>\n",
       "      <td>5</td>\n",
       "      <td>5</td>\n",
       "      <td>55</td>\n",
       "      <td>champions</td>\n",
       "    </tr>\n",
       "    <tr>\n",
       "      <th>12348.0</th>\n",
       "      <td>76</td>\n",
       "      <td>4</td>\n",
       "      <td>1797.24</td>\n",
       "      <td>2</td>\n",
       "      <td>4</td>\n",
       "      <td>4</td>\n",
       "      <td>24</td>\n",
       "      <td>at_Risk</td>\n",
       "    </tr>\n",
       "    <tr>\n",
       "      <th>12349.0</th>\n",
       "      <td>19</td>\n",
       "      <td>1</td>\n",
       "      <td>1757.55</td>\n",
       "      <td>4</td>\n",
       "      <td>1</td>\n",
       "      <td>4</td>\n",
       "      <td>41</td>\n",
       "      <td>promising</td>\n",
       "    </tr>\n",
       "    <tr>\n",
       "      <th>12350.0</th>\n",
       "      <td>311</td>\n",
       "      <td>1</td>\n",
       "      <td>334.40</td>\n",
       "      <td>1</td>\n",
       "      <td>1</td>\n",
       "      <td>2</td>\n",
       "      <td>11</td>\n",
       "      <td>hibernating</td>\n",
       "    </tr>\n",
       "  </tbody>\n",
       "</table>\n",
       "</div>"
      ],
      "text/plain": [
       "            Recency  Frequency  Monetary recency_score frequency_score  \\\n",
       "CustomerID                                                               \n",
       "12346.0         326          1  77183.60             1               1   \n",
       "12347.0           3          7   4310.00             5               5   \n",
       "12348.0          76          4   1797.24             2               4   \n",
       "12349.0          19          1   1757.55             4               1   \n",
       "12350.0         311          1    334.40             1               1   \n",
       "\n",
       "           monetary_score RFM_SCORE      segment  \n",
       "CustomerID                                        \n",
       "12346.0                 5        11  hibernating  \n",
       "12347.0                 5        55    champions  \n",
       "12348.0                 4        24      at_Risk  \n",
       "12349.0                 4        41    promising  \n",
       "12350.0                 2        11  hibernating  "
      ]
     },
     "execution_count": 16,
     "metadata": {},
     "output_type": "execute_result"
    }
   ],
   "source": [
    "seg_map = {\n",
    "    r'[1-2][1-2]': 'hibernating',\n",
    "    r'[1-2][3-4]': 'at_Risk',\n",
    "    r'[1-2]5': 'cant_loose',\n",
    "    r'3[1-2]': 'about_to_sleep',\n",
    "    r'33': 'need_attention',\n",
    "    r'[3-4][4-5]': 'loyal_customers',\n",
    "    r'41': 'promising',\n",
    "    r'51': 'new_customers',\n",
    "    r'[4-5][2-3]': 'potential_loyalists',\n",
    "    r'5[4-5]': 'champions'\n",
    "}\n",
    "rfm_analysis['segment'] = rfm_analysis['RFM_SCORE'].replace(seg_map, regex=True)\n",
    "rfm_analysis.head()"
   ]
  },
  {
   "cell_type": "markdown",
   "id": "3ad197cb",
   "metadata": {},
   "source": [
    "<a id=\"7\"></a>\n",
    "<h3 style=\"color:#4F0E0E;font-size:44px;font-family:newtimeroman;text-align:center;\"><strong>Interpretation of Descriptive Statistics of Segments\n",
    "</strong></h3>"
   ]
  },
  {
   "cell_type": "code",
   "execution_count": 21,
   "id": "4af0e654",
   "metadata": {},
   "outputs": [
    {
     "data": {
      "text/html": [
       "<div>\n",
       "<style scoped>\n",
       "    .dataframe tbody tr th:only-of-type {\n",
       "        vertical-align: middle;\n",
       "    }\n",
       "\n",
       "    .dataframe tbody tr th {\n",
       "        vertical-align: top;\n",
       "    }\n",
       "\n",
       "    .dataframe thead tr th {\n",
       "        text-align: left;\n",
       "    }\n",
       "\n",
       "    .dataframe thead tr:last-of-type th {\n",
       "        text-align: right;\n",
       "    }\n",
       "</style>\n",
       "<table border=\"1\" class=\"dataframe\">\n",
       "  <thead>\n",
       "    <tr>\n",
       "      <th></th>\n",
       "      <th colspan=\"3\" halign=\"left\">Recency</th>\n",
       "      <th colspan=\"3\" halign=\"left\">Frequency</th>\n",
       "      <th colspan=\"3\" halign=\"left\">Monetary</th>\n",
       "    </tr>\n",
       "    <tr>\n",
       "      <th></th>\n",
       "      <th>mean</th>\n",
       "      <th>count</th>\n",
       "      <th>max</th>\n",
       "      <th>mean</th>\n",
       "      <th>count</th>\n",
       "      <th>max</th>\n",
       "      <th>mean</th>\n",
       "      <th>count</th>\n",
       "      <th>max</th>\n",
       "    </tr>\n",
       "    <tr>\n",
       "      <th>segment</th>\n",
       "      <th></th>\n",
       "      <th></th>\n",
       "      <th></th>\n",
       "      <th></th>\n",
       "      <th></th>\n",
       "      <th></th>\n",
       "      <th></th>\n",
       "      <th></th>\n",
       "      <th></th>\n",
       "    </tr>\n",
       "  </thead>\n",
       "  <tbody>\n",
       "    <tr>\n",
       "      <th>about_to_sleep</th>\n",
       "      <td>53.0</td>\n",
       "      <td>352</td>\n",
       "      <td>72</td>\n",
       "      <td>1.0</td>\n",
       "      <td>352</td>\n",
       "      <td>2</td>\n",
       "      <td>472.0</td>\n",
       "      <td>352</td>\n",
       "      <td>6208.0</td>\n",
       "    </tr>\n",
       "    <tr>\n",
       "      <th>at_Risk</th>\n",
       "      <td>154.0</td>\n",
       "      <td>593</td>\n",
       "      <td>374</td>\n",
       "      <td>3.0</td>\n",
       "      <td>593</td>\n",
       "      <td>6</td>\n",
       "      <td>1085.0</td>\n",
       "      <td>593</td>\n",
       "      <td>44534.0</td>\n",
       "    </tr>\n",
       "    <tr>\n",
       "      <th>cant_loose</th>\n",
       "      <td>133.0</td>\n",
       "      <td>63</td>\n",
       "      <td>373</td>\n",
       "      <td>8.0</td>\n",
       "      <td>63</td>\n",
       "      <td>34</td>\n",
       "      <td>2796.0</td>\n",
       "      <td>63</td>\n",
       "      <td>10254.0</td>\n",
       "    </tr>\n",
       "    <tr>\n",
       "      <th>champions</th>\n",
       "      <td>6.0</td>\n",
       "      <td>633</td>\n",
       "      <td>13</td>\n",
       "      <td>12.0</td>\n",
       "      <td>633</td>\n",
       "      <td>210</td>\n",
       "      <td>6858.0</td>\n",
       "      <td>633</td>\n",
       "      <td>280206.0</td>\n",
       "    </tr>\n",
       "    <tr>\n",
       "      <th>hibernating</th>\n",
       "      <td>218.0</td>\n",
       "      <td>1071</td>\n",
       "      <td>374</td>\n",
       "      <td>1.0</td>\n",
       "      <td>1071</td>\n",
       "      <td>2</td>\n",
       "      <td>489.0</td>\n",
       "      <td>1071</td>\n",
       "      <td>77184.0</td>\n",
       "    </tr>\n",
       "    <tr>\n",
       "      <th>loyal_customers</th>\n",
       "      <td>34.0</td>\n",
       "      <td>819</td>\n",
       "      <td>72</td>\n",
       "      <td>6.0</td>\n",
       "      <td>819</td>\n",
       "      <td>63</td>\n",
       "      <td>2864.0</td>\n",
       "      <td>819</td>\n",
       "      <td>124915.0</td>\n",
       "    </tr>\n",
       "    <tr>\n",
       "      <th>need_attention</th>\n",
       "      <td>52.0</td>\n",
       "      <td>187</td>\n",
       "      <td>72</td>\n",
       "      <td>2.0</td>\n",
       "      <td>187</td>\n",
       "      <td>3</td>\n",
       "      <td>898.0</td>\n",
       "      <td>187</td>\n",
       "      <td>12602.0</td>\n",
       "    </tr>\n",
       "    <tr>\n",
       "      <th>new_customers</th>\n",
       "      <td>7.0</td>\n",
       "      <td>42</td>\n",
       "      <td>13</td>\n",
       "      <td>1.0</td>\n",
       "      <td>42</td>\n",
       "      <td>1</td>\n",
       "      <td>388.0</td>\n",
       "      <td>42</td>\n",
       "      <td>3861.0</td>\n",
       "    </tr>\n",
       "    <tr>\n",
       "      <th>potential_loyalists</th>\n",
       "      <td>17.0</td>\n",
       "      <td>484</td>\n",
       "      <td>33</td>\n",
       "      <td>2.0</td>\n",
       "      <td>484</td>\n",
       "      <td>3</td>\n",
       "      <td>1041.0</td>\n",
       "      <td>484</td>\n",
       "      <td>168472.0</td>\n",
       "    </tr>\n",
       "    <tr>\n",
       "      <th>promising</th>\n",
       "      <td>24.0</td>\n",
       "      <td>94</td>\n",
       "      <td>33</td>\n",
       "      <td>1.0</td>\n",
       "      <td>94</td>\n",
       "      <td>1</td>\n",
       "      <td>294.0</td>\n",
       "      <td>94</td>\n",
       "      <td>1758.0</td>\n",
       "    </tr>\n",
       "  </tbody>\n",
       "</table>\n",
       "</div>"
      ],
      "text/plain": [
       "                    Recency            Frequency            Monetary        \\\n",
       "                       mean count  max      mean count  max     mean count   \n",
       "segment                                                                      \n",
       "about_to_sleep         53.0   352   72       1.0   352    2    472.0   352   \n",
       "at_Risk               154.0   593  374       3.0   593    6   1085.0   593   \n",
       "cant_loose            133.0    63  373       8.0    63   34   2796.0    63   \n",
       "champions               6.0   633   13      12.0   633  210   6858.0   633   \n",
       "hibernating           218.0  1071  374       1.0  1071    2    489.0  1071   \n",
       "loyal_customers        34.0   819   72       6.0   819   63   2864.0   819   \n",
       "need_attention         52.0   187   72       2.0   187    3    898.0   187   \n",
       "new_customers           7.0    42   13       1.0    42    1    388.0    42   \n",
       "potential_loyalists    17.0   484   33       2.0   484    3   1041.0   484   \n",
       "promising              24.0    94   33       1.0    94    1    294.0    94   \n",
       "\n",
       "                               \n",
       "                          max  \n",
       "segment                        \n",
       "about_to_sleep         6208.0  \n",
       "at_Risk               44534.0  \n",
       "cant_loose            10254.0  \n",
       "champions            280206.0  \n",
       "hibernating           77184.0  \n",
       "loyal_customers      124915.0  \n",
       "need_attention        12602.0  \n",
       "new_customers          3861.0  \n",
       "potential_loyalists  168472.0  \n",
       "promising              1758.0  "
      ]
     },
     "execution_count": 21,
     "metadata": {},
     "output_type": "execute_result"
    }
   ],
   "source": [
    "rfm_stat = rfm_analysis[[\"segment\", \"Recency\", \"Frequency\",\"Monetary\"]].groupby('segment').agg(['mean','count','max']).round()\n",
    "rfm_stat"
   ]
  },
  {
   "cell_type": "markdown",
   "id": "1a7d0504",
   "metadata": {},
   "source": [
    "<a id=\"8\"></a>\n",
    "<h3 style=\"color:#4F0E0E;font-size:44px;font-family:newtimeroman;text-align:center;\"><strong>Some Comments on RFM segments</strong></h3>"
   ]
  },
  {
   "cell_type": "markdown",
   "id": "7a7c09f0",
   "metadata": {},
   "source": [
    "\n",
    "**Cant Loose**:\n",
    "\n",
    "* There are `63 Customers` in this segment.\n",
    "* The last time they made purchases was `133 days ago`.\n",
    "* The average Frequency of shopping is `8`, and the total number of purchases is `34`.\n",
    "* The average spent in this segment is `$2,796`.\n",
    "\n",
    "**Action**:\n",
    "We have to win them back, make them special offers and make them feel valuable. Also we can conduct a survey for that group for investigating why they are not present for a long time, it's abnormal because their frequency is the most among all customers.\n",
    "\n",
    "**Need Attention**:\n",
    "\n",
    "* There are `187` Customers in this segment.\n",
    "* The last time they made purchases was `52 days ago`.\n",
    "* The average Frequency of shopping is `2`, and the total number of purchases is `3`.\n",
    "* The average spent in this segment is `$898`.\n",
    "\n",
    "**Action**:\n",
    "These customers need to be reminded of the brand.So, short-term discounts can be made to remind these customers of our brand and allow them to shop again.\n",
    "\n",
    "\n",
    "**New Customers**:\n",
    "\n",
    "* There are `42` Customers in this segment.\n",
    "* The last time they made purchases was `7 days ago`.\n",
    "* The average Frequency of shopping is `1`, and the total number of purchases is `1`.\n",
    "* The average spent in this segment is `$388`.\n",
    "\n",
    "**Action**:\n",
    "They just visited our site, so We can offer them some special 'Welcome' offers."
   ]
  },
  {
   "cell_type": "markdown",
   "id": "18734303",
   "metadata": {},
   "source": [
    "<a id=\"9\"></a>\n",
    "<h3 style=\"color:#4F0E0E;font-size:44px;font-family:newtimeroman;text-align:center;\"><strong>RFM Segmentation Visualization\n",
    "</strong></h3>"
   ]
  },
  {
   "cell_type": "code",
   "execution_count": 24,
   "id": "abc3b615",
   "metadata": {},
   "outputs": [
    {
     "data": {
      "text/plain": [
       "hibernating            1071\n",
       "loyal_customers         819\n",
       "champions               633\n",
       "at_Risk                 593\n",
       "potential_loyalists     484\n",
       "about_to_sleep          352\n",
       "need_attention          187\n",
       "promising                94\n",
       "cant_loose               63\n",
       "new_customers            42\n",
       "Name: segment, dtype: int64"
      ]
     },
     "execution_count": 24,
     "metadata": {},
     "output_type": "execute_result"
    }
   ],
   "source": [
    "# value counts each segment\n",
    "rfm_analysis[\"segment\"].value_counts()"
   ]
  },
  {
   "cell_type": "code",
   "execution_count": 25,
   "id": "ed316291",
   "metadata": {},
   "outputs": [
    {
     "name": "stdout",
     "output_type": "stream",
     "text": [
      "                    Recency Frequency Monetary      \n",
      "                       mean      mean     mean count\n",
      "segment                                             \n",
      "about_to_sleep         53.3       1.2    472.0   352\n",
      "at_Risk               153.8       2.9   1084.5   593\n",
      "cant_loose            133.0       8.4   2796.2    63\n",
      "champions               6.4      12.4   6857.9   633\n",
      "hibernating           217.6       1.1    488.6  1071\n",
      "loyal_customers        33.6       6.5   2864.2   819\n",
      "need_attention         52.4       2.3    897.6   187\n",
      "new_customers           7.4       1.0    388.2    42\n",
      "potential_loyalists    17.4       2.0   1041.2   484\n",
      "promising              23.5       1.0    294.0    94\n"
     ]
    }
   ],
   "source": [
    "# Calculate average values for each rfm_analysis, and return a size of each segment \n",
    "rfm_level_agg = rfm_analysis.groupby('segment').agg({\n",
    "    'Recency': 'mean',\n",
    "    'Frequency': 'mean',\n",
    "    'Monetary': ['mean', 'count']}).round(1)\n",
    "# Print the aggregated dataset\n",
    "print(rfm_level_agg)"
   ]
  },
  {
   "cell_type": "code",
   "execution_count": 26,
   "id": "d7a8f264",
   "metadata": {},
   "outputs": [],
   "source": [
    "rfm_level_agg.columns = rfm_level_agg.columns.droplevel()\n",
    "rfm_level_agg.columns = ['RecencyMean','FrequencyMean','MonetaryMean', 'Count']"
   ]
  },
  {
   "cell_type": "code",
   "execution_count": 30,
   "id": "0d41fc00",
   "metadata": {},
   "outputs": [
    {
     "data": {
      "image/png": "[encoded data removed]",
      "text/plain": [
       "<Figure size 1440x1080 with 1 Axes>"
      ]
     },
     "metadata": {
      "needs_background": "light"
     },
     "output_type": "display_data"
    }
   ],
   "source": [
    "fig, ax = plt.subplots(1, figsize = (20,15))\n",
    "\n",
    "squarify.plot(sizes = rfm_level_agg['Count'], \n",
    "              label=rfm_analysis['segment'], \n",
    "              alpha=.8,\n",
    "              color=['tab:red', 'tab:purple', 'tab:brown', 'tab:pink', 'tab:gray']\n",
    ")\n",
    "plt.title(\"RFM Segments\",fontsize=18,fontweight=\"bold\")\n",
    "plt.axis('off')\n",
    "plt.show()"
   ]
  },
  {
   "cell_type": "markdown",
   "id": "618f38ee",
   "metadata": {},
   "source": [
    "<a id=\"10\"></a>\n",
    "<h3 style=\"color:#4F0E0E;font-size:44px;font-family:newtimeroman;text-align:center;\"><strong>Standardization\n",
    "</strong></h3>"
   ]
  },
  {
   "cell_type": "markdown",
   "id": "597201f1",
   "metadata": {},
   "source": [
    "> `Standardization` is the process of rescaling the values of the variables in your data set so they share a common scale."
   ]
  },
  {
   "cell_type": "code",
   "execution_count": 33,
   "id": "5345d68f",
   "metadata": {},
   "outputs": [
    {
     "data": {
      "text/html": [
       "<div>\n",
       "<style scoped>\n",
       "    .dataframe tbody tr th:only-of-type {\n",
       "        vertical-align: middle;\n",
       "    }\n",
       "\n",
       "    .dataframe tbody tr th {\n",
       "        vertical-align: top;\n",
       "    }\n",
       "\n",
       "    .dataframe thead th {\n",
       "        text-align: right;\n",
       "    }\n",
       "</style>\n",
       "<table border=\"1\" class=\"dataframe\">\n",
       "  <thead>\n",
       "    <tr style=\"text-align: right;\">\n",
       "      <th></th>\n",
       "      <th>Recency</th>\n",
       "      <th>Frequency</th>\n",
       "      <th>Monetary</th>\n",
       "    </tr>\n",
       "    <tr>\n",
       "      <th>CustomerID</th>\n",
       "      <th></th>\n",
       "      <th></th>\n",
       "      <th></th>\n",
       "    </tr>\n",
       "  </thead>\n",
       "  <tbody>\n",
       "    <tr>\n",
       "      <th>12346.0</th>\n",
       "      <td>326</td>\n",
       "      <td>1</td>\n",
       "      <td>77183.60</td>\n",
       "    </tr>\n",
       "    <tr>\n",
       "      <th>12347.0</th>\n",
       "      <td>3</td>\n",
       "      <td>7</td>\n",
       "      <td>4310.00</td>\n",
       "    </tr>\n",
       "    <tr>\n",
       "      <th>12348.0</th>\n",
       "      <td>76</td>\n",
       "      <td>4</td>\n",
       "      <td>1797.24</td>\n",
       "    </tr>\n",
       "    <tr>\n",
       "      <th>12349.0</th>\n",
       "      <td>19</td>\n",
       "      <td>1</td>\n",
       "      <td>1757.55</td>\n",
       "    </tr>\n",
       "    <tr>\n",
       "      <th>12350.0</th>\n",
       "      <td>311</td>\n",
       "      <td>1</td>\n",
       "      <td>334.40</td>\n",
       "    </tr>\n",
       "  </tbody>\n",
       "</table>\n",
       "</div>"
      ],
      "text/plain": [
       "            Recency  Frequency  Monetary\n",
       "CustomerID                              \n",
       "12346.0         326          1  77183.60\n",
       "12347.0           3          7   4310.00\n",
       "12348.0          76          4   1797.24\n",
       "12349.0          19          1   1757.55\n",
       "12350.0         311          1    334.40"
      ]
     },
     "execution_count": 33,
     "metadata": {},
     "output_type": "execute_result"
    }
   ],
   "source": [
    "# making new data\n",
    "rfm_clustering = rfm_analysis[['Recency','Frequency','Monetary']].copy()\n",
    "rfm_clustering.head()"
   ]
  },
  {
   "cell_type": "code",
   "execution_count": 36,
   "id": "ae039006",
   "metadata": {},
   "outputs": [],
   "source": [
    "min_max_scaler = MinMaxScaler()\n",
    "scaler = min_max_scaler.fit_transform(rfm_clustering)\n",
    "data_scaler2 = pd.DataFrame(scaler)"
   ]
  },
  {
   "cell_type": "code",
   "execution_count": 37,
   "id": "7a8ef98e",
   "metadata": {},
   "outputs": [
    {
     "data": {
      "text/html": [
       "<div>\n",
       "<style scoped>\n",
       "    .dataframe tbody tr th:only-of-type {\n",
       "        vertical-align: middle;\n",
       "    }\n",
       "\n",
       "    .dataframe tbody tr th {\n",
       "        vertical-align: top;\n",
       "    }\n",
       "\n",
       "    .dataframe thead th {\n",
       "        text-align: right;\n",
       "    }\n",
       "</style>\n",
       "<table border=\"1\" class=\"dataframe\">\n",
       "  <thead>\n",
       "    <tr style=\"text-align: right;\">\n",
       "      <th></th>\n",
       "      <th>0</th>\n",
       "      <th>1</th>\n",
       "      <th>2</th>\n",
       "    </tr>\n",
       "  </thead>\n",
       "  <tbody>\n",
       "    <tr>\n",
       "      <th>0</th>\n",
       "      <td>0.871314</td>\n",
       "      <td>0.000000</td>\n",
       "      <td>0.275443</td>\n",
       "    </tr>\n",
       "    <tr>\n",
       "      <th>1</th>\n",
       "      <td>0.005362</td>\n",
       "      <td>0.028708</td>\n",
       "      <td>0.015368</td>\n",
       "    </tr>\n",
       "    <tr>\n",
       "      <th>2</th>\n",
       "      <td>0.201072</td>\n",
       "      <td>0.014354</td>\n",
       "      <td>0.006401</td>\n",
       "    </tr>\n",
       "    <tr>\n",
       "      <th>3</th>\n",
       "      <td>0.048257</td>\n",
       "      <td>0.000000</td>\n",
       "      <td>0.006259</td>\n",
       "    </tr>\n",
       "    <tr>\n",
       "      <th>4</th>\n",
       "      <td>0.831099</td>\n",
       "      <td>0.000000</td>\n",
       "      <td>0.001180</td>\n",
       "    </tr>\n",
       "  </tbody>\n",
       "</table>\n",
       "</div>"
      ],
      "text/plain": [
       "          0         1         2\n",
       "0  0.871314  0.000000  0.275443\n",
       "1  0.005362  0.028708  0.015368\n",
       "2  0.201072  0.014354  0.006401\n",
       "3  0.048257  0.000000  0.006259\n",
       "4  0.831099  0.000000  0.001180"
      ]
     },
     "execution_count": 37,
     "metadata": {},
     "output_type": "execute_result"
    }
   ],
   "source": [
    "data_scaler2.head()"
   ]
  },
  {
   "cell_type": "markdown",
   "id": "08bca4e2",
   "metadata": {},
   "source": [
    "<a id=\"11\"></a>\n",
    "<h3 style=\"color:#4F0E0E;font-size:44px;font-family:newtimeroman;text-align:center;\"><strong>K-Means Segmentation\n",
    "</strong></h3>"
   ]
  },
  {
   "cell_type": "markdown",
   "id": "eb391812",
   "metadata": {},
   "source": [
    "<a id=\"11.1\"></a>\n",
    "<h3 style=\"color:#4F0E0E;font-size:35px;font-family:newtimeroman;text-align:center;\"><strong>Identifying Optimal numbers of clusters\n",
    "</strong></h3>"
   ]
  },
  {
   "cell_type": "code",
   "execution_count": 38,
   "id": "66d6a0b1",
   "metadata": {},
   "outputs": [],
   "source": [
    "wcss = []\n",
    "for i in range(1,11):\n",
    "    kmeans = KMeans(n_clusters = i, init = 'k-means++',  random_state = 42)\n",
    "    kmeans.fit(data_scaler2)\n",
    "    wcss.append(kmeans.inertia_)"
   ]
  },
  {
   "cell_type": "code",
   "execution_count": 39,
   "id": "5ea099cc",
   "metadata": {},
   "outputs": [
    {
     "data": {
      "image/png": "[encoded data removed]",
      "text/plain": [
       "<Figure size 864x648 with 1 Axes>"
      ]
     },
     "metadata": {
      "needs_background": "light"
     },
     "output_type": "display_data"
    }
   ],
   "source": [
    "plt.figure(figsize = (12,9))\n",
    "plt.plot(range(1,11), wcss, marker = 'o', linestyle = '--')\n",
    "plt.xlabel('Number of Clusters')\n",
    "plt.ylabel('WCSS')\n",
    "plt.title('K-Means Clustering')\n",
    "plt.show()"
   ]
  },
  {
   "cell_type": "markdown",
   "id": "14d97d90",
   "metadata": {},
   "source": [
    "### `4` is the optimal number of clusters."
   ]
  },
  {
   "cell_type": "markdown",
   "id": "fb7b5831",
   "metadata": {},
   "source": [
    "<a id=\"11.2\"></a>\n",
    "<h3 style=\"color:#4F0E0E;font-size:35px;font-family:newtimeroman;text-align:center;\"><strong>Training KMeans Algorithm</strong></h3>"
   ]
  },
  {
   "cell_type": "code",
   "execution_count": 43,
   "id": "d61d1c96",
   "metadata": {},
   "outputs": [
    {
     "data": {
      "text/plain": [
       "KMeans(algorithm='auto', copy_x=True, init='k-means++', max_iter=300,\n",
       "       n_clusters=4, n_init=10, n_jobs=None, precompute_distances='auto',\n",
       "       random_state=None, tol=0.0001, verbose=0)"
      ]
     },
     "execution_count": 43,
     "metadata": {},
     "output_type": "execute_result"
    }
   ],
   "source": [
    "model = KMeans(n_clusters = 4)\n",
    "model.fit(data_scaler2)"
   ]
  },
  {
   "cell_type": "code",
   "execution_count": 48,
   "id": "a59a6151",
   "metadata": {},
   "outputs": [
    {
     "data": {
      "text/plain": [
       "3    2129\n",
       "0    1093\n",
       "2     618\n",
       "1     498\n",
       "Name: cluster, dtype: int64"
      ]
     },
     "execution_count": 48,
     "metadata": {},
     "output_type": "execute_result"
    }
   ],
   "source": [
    "rfm_new = rfm_analysis[['Recency','Frequency','Monetary']]\n",
    "\n",
    "label = model.labels_\n",
    "\n",
    "d_frame = pd.DataFrame(rfm_new)\n",
    "d_frame['cluster'] = label\n",
    "d_frame['cluster'].value_counts()"
   ]
  },
  {
   "cell_type": "code",
   "execution_count": 49,
   "id": "1d99d61d",
   "metadata": {},
   "outputs": [
    {
     "data": {
      "text/html": [
       "<div>\n",
       "<style scoped>\n",
       "    .dataframe tbody tr th:only-of-type {\n",
       "        vertical-align: middle;\n",
       "    }\n",
       "\n",
       "    .dataframe tbody tr th {\n",
       "        vertical-align: top;\n",
       "    }\n",
       "\n",
       "    .dataframe thead th {\n",
       "        text-align: right;\n",
       "    }\n",
       "</style>\n",
       "<table border=\"1\" class=\"dataframe\">\n",
       "  <thead>\n",
       "    <tr style=\"text-align: right;\">\n",
       "      <th></th>\n",
       "      <th>Recency</th>\n",
       "      <th>Frequency</th>\n",
       "      <th>Monetary</th>\n",
       "      <th>cluster</th>\n",
       "    </tr>\n",
       "    <tr>\n",
       "      <th>CustomerID</th>\n",
       "      <th></th>\n",
       "      <th></th>\n",
       "      <th></th>\n",
       "      <th></th>\n",
       "    </tr>\n",
       "  </thead>\n",
       "  <tbody>\n",
       "    <tr>\n",
       "      <th>12346.0</th>\n",
       "      <td>326</td>\n",
       "      <td>1</td>\n",
       "      <td>77183.60</td>\n",
       "      <td>1</td>\n",
       "    </tr>\n",
       "    <tr>\n",
       "      <th>12347.0</th>\n",
       "      <td>3</td>\n",
       "      <td>7</td>\n",
       "      <td>4310.00</td>\n",
       "      <td>3</td>\n",
       "    </tr>\n",
       "    <tr>\n",
       "      <th>12348.0</th>\n",
       "      <td>76</td>\n",
       "      <td>4</td>\n",
       "      <td>1797.24</td>\n",
       "      <td>0</td>\n",
       "    </tr>\n",
       "    <tr>\n",
       "      <th>12349.0</th>\n",
       "      <td>19</td>\n",
       "      <td>1</td>\n",
       "      <td>1757.55</td>\n",
       "      <td>3</td>\n",
       "    </tr>\n",
       "    <tr>\n",
       "      <th>12350.0</th>\n",
       "      <td>311</td>\n",
       "      <td>1</td>\n",
       "      <td>334.40</td>\n",
       "      <td>1</td>\n",
       "    </tr>\n",
       "  </tbody>\n",
       "</table>\n",
       "</div>"
      ],
      "text/plain": [
       "            Recency  Frequency  Monetary  cluster\n",
       "CustomerID                                       \n",
       "12346.0         326          1  77183.60        1\n",
       "12347.0           3          7   4310.00        3\n",
       "12348.0          76          4   1797.24        0\n",
       "12349.0          19          1   1757.55        3\n",
       "12350.0         311          1    334.40        1"
      ]
     },
     "execution_count": 49,
     "metadata": {},
     "output_type": "execute_result"
    }
   ],
   "source": [
    "d_frame.head()"
   ]
  },
  {
   "cell_type": "markdown",
   "id": "95c4020a",
   "metadata": {},
   "source": [
    "<a id=\"11.3\"></a>\n",
    "<h3 style=\"color:#4F0E0E;font-size:35px;font-family:newtimeroman;text-align:center;\"><strong>Which Cluster Is Our Best Customers\n",
    "</strong></h3>"
   ]
  },
  {
   "cell_type": "code",
   "execution_count": 55,
   "id": "25d2bced",
   "metadata": {},
   "outputs": [
    {
     "data": {
      "text/html": [
       "<div>\n",
       "<style scoped>\n",
       "    .dataframe tbody tr th:only-of-type {\n",
       "        vertical-align: middle;\n",
       "    }\n",
       "\n",
       "    .dataframe tbody tr th {\n",
       "        vertical-align: top;\n",
       "    }\n",
       "\n",
       "    .dataframe thead th {\n",
       "        text-align: right;\n",
       "    }\n",
       "</style>\n",
       "<table border=\"1\" class=\"dataframe\">\n",
       "  <thead>\n",
       "    <tr style=\"text-align: right;\">\n",
       "      <th></th>\n",
       "      <th>Recency</th>\n",
       "      <th>Frequency</th>\n",
       "      <th>Monetary</th>\n",
       "    </tr>\n",
       "    <tr>\n",
       "      <th>cluster</th>\n",
       "      <th></th>\n",
       "      <th></th>\n",
       "      <th></th>\n",
       "    </tr>\n",
       "  </thead>\n",
       "  <tbody>\n",
       "    <tr>\n",
       "      <th>0</th>\n",
       "      <td>81.429094</td>\n",
       "      <td>2.628545</td>\n",
       "      <td>1008.310697</td>\n",
       "    </tr>\n",
       "    <tr>\n",
       "      <th>1</th>\n",
       "      <td>309.369478</td>\n",
       "      <td>1.349398</td>\n",
       "      <td>565.829056</td>\n",
       "    </tr>\n",
       "    <tr>\n",
       "      <th>2</th>\n",
       "      <td>192.040453</td>\n",
       "      <td>1.873786</td>\n",
       "      <td>727.360940</td>\n",
       "    </tr>\n",
       "    <tr>\n",
       "      <th>3</th>\n",
       "      <td>19.700798</td>\n",
       "      <td>6.496947</td>\n",
       "      <td>3324.580733</td>\n",
       "    </tr>\n",
       "  </tbody>\n",
       "</table>\n",
       "</div>"
      ],
      "text/plain": [
       "            Recency  Frequency     Monetary\n",
       "cluster                                    \n",
       "0         81.429094   2.628545  1008.310697\n",
       "1        309.369478   1.349398   565.829056\n",
       "2        192.040453   1.873786   727.360940\n",
       "3         19.700798   6.496947  3324.580733"
      ]
     },
     "execution_count": 55,
     "metadata": {},
     "output_type": "execute_result"
    }
   ],
   "source": [
    "d_frame.groupby('cluster').mean()"
   ]
  },
  {
   "cell_type": "markdown",
   "id": "70c3d3ea",
   "metadata": {},
   "source": [
    "`Cluster 0` : **Loyal** \n",
    "Loyal customers have made a large number of purchases from you, and are often the most likely to recommend you to their friends and family.\n",
    "\n",
    "\n",
    "`Cluster 1` : **Most likely to churn**\n",
    "These customers haven’t made a recent purchase, and the longer it’s been since they purchased from you, the less likely they are to buy from you again. \n",
    "\n",
    "\n",
    "`Cluster 2` : **About to Sleep**\n",
    "Existing customers who haven't purchases from us for a long time.\n",
    "\n",
    "\n",
    "\n",
    "`Cluster 3` : **High-spending new customers** \n",
    "This group is made up of customers who have recently purchased from us for the first-time with highest Frequency and highest Monetary."
   ]
  }
 ],
 "metadata": {
  "kernelspec": {
   "display_name": "Python 3",
   "language": "python",
   "name": "python3"
  },
  "language_info": {
   "codemirror_mode": {
    "name": "ipython",
    "version": 3
   },
   "file_extension": ".py",
   "mimetype": "text/x-python",
   "name": "python",
   "nbconvert_exporter": "python",
   "pygments_lexer": "ipython3",
   "version": "3.8.8"
  }
 },
 "nbformat": 4,
 "nbformat_minor": 5
}
